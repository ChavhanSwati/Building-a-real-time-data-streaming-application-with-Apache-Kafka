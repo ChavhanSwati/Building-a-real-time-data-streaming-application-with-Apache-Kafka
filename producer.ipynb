{
 "cells": [
  {
   "cell_type": "code",
   "execution_count": null,
   "id": "bf6001c1",
   "metadata": {},
   "outputs": [],
   "source": [
    "!pip install websocket-client"
   ]
  },
  {
   "cell_type": "code",
   "execution_count": null,
   "id": "8a28e2ef",
   "metadata": {},
   "outputs": [],
   "source": [
    "import websocket\n",
    "import time\n",
    "\n",
    "def on_message(ws, message):\n",
    "     print(message)\n",
    "\n",
    "websocket.enableTrace(True)\n",
    "ws = websocket.WebSocketApp(\"wss://stream.meetup.com/2/rsvps\", on_message=on_message)\n",
    "\n",
    "while(True):\n",
    "    ws.run_forever()\n",
    "    time.sleep(0.2)"
   ]
  },
  {
   "cell_type": "code",
   "execution_count": null,
   "id": "f30b903b",
   "metadata": {},
   "outputs": [],
   "source": [
    "import websocket\n",
    "import json\n",
    "import time\n",
    "from kafka import KafkaProducer\n",
    "\n",
    "\n",
    "def on_message(ws, message):\n",
    "     producer.send('hello_test', message)\n",
    "     print(message)\n",
    "     producer.flush()\n",
    "\n",
    "producer = KafkaProducer(value_serializer=lambda m: json.dumps(m).encode('utf-8'),\n",
    "                         bootstrap_servers=['localhost:9092'])\n",
    "\n",
    "websocket.enableTrace(True)\n",
    "\n",
    "ws = websocket.WebSocketApp(\"wss://stream.meetup.com/2/rsvps\", on_message=on_message)\n",
    "\n",
    "while(1):\n",
    "    ws.run_forever()\n",
    "    time.sleep(0.2)"
   ]
  },
  {
   "cell_type": "code",
   "execution_count": null,
   "id": "32de202f",
   "metadata": {},
   "outputs": [],
   "source": []
  }
 ],
 "metadata": {
  "kernelspec": {
   "display_name": "Python 3",
   "language": "python",
   "name": "python3"
  },
  "language_info": {
   "codemirror_mode": {
    "name": "ipython",
    "version": 3
   },
   "file_extension": ".py",
   "mimetype": "text/x-python",
   "name": "python",
   "nbconvert_exporter": "python",
   "pygments_lexer": "ipython3",
   "version": "3.8.8"
  }
 },
 "nbformat": 4,
 "nbformat_minor": 5
}
